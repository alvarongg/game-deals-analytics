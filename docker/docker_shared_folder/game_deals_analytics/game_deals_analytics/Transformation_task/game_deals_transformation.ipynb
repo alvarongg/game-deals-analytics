{
 "cells": [
  {
   "cell_type": "code",
   "execution_count": 1,
   "id": "4c3aa212-605a-47ee-b70b-1ec60ee428e3",
   "metadata": {
    "tags": []
   },
   "outputs": [
    {
     "name": "stdout",
     "output_type": "stream",
     "text": [
      "Requirement already satisfied: psycopg2-binary in /opt/conda/lib/python3.10/site-packages (2.9.6)\n"
     ]
    }
   ],
   "source": [
    "!pip install psycopg2-binary"
   ]
  },
  {
   "cell_type": "code",
   "execution_count": 2,
   "id": "be71145c-fb47-4f72-84f7-7950030e90ff",
   "metadata": {
    "tags": []
   },
   "outputs": [],
   "source": [
    "import os\n",
    "import psycopg2\n",
    "\n",
    "from pyspark.sql import SparkSession\n",
    "from pyspark.sql.functions import when, lit, col\n",
    "\n",
    "# Postgres and Redshift JDBCs\n",
    "driver_path = \"/home/coder/working_dir/spark_drivers/postgresql-42.5.2.jar\"\n",
    "\n",
    "os.environ['PYSPARK_SUBMIT_ARGS'] = f'--driver-class-path {driver_path} --jars {driver_path} pyspark-shell'\n",
    "os.environ['SPARK_CLASSPATH'] = driver_path\n",
    "\n",
    "# Create SparkSession \n",
    "spark = SparkSession.builder \\\n",
    "        .master(\"local\") \\\n",
    "        .appName(\"Clean and Load data to Redshift\") \\\n",
    "        .config(\"spark.jars\", driver_path) \\\n",
    "        .config(\"spark.executor.extraClassPath\", driver_path) \\\n",
    "        .getOrCreate()"
   ]
  },
  {
   "cell_type": "code",
   "execution_count": 3,
   "id": "dca18937-56f9-4d6c-89d0-a04befeb0806",
   "metadata": {
    "tags": []
   },
   "outputs": [],
   "source": [
    "env = os.environ"
   ]
  },
  {
   "cell_type": "code",
   "execution_count": 4,
   "id": "e88f66b1-93af-4385-859b-621fd41f8a99",
   "metadata": {
    "tags": []
   },
   "outputs": [],
   "source": [
    "# Connect to Redshift using psycopg2\n",
    "conn = psycopg2.connect(\n",
    "    host=env['AWS_REDSHIFT_HOST'],\n",
    "    port=env['AWS_REDSHIFT_PORT'],\n",
    "    dbname=env['AWS_REDSHIFT_DBNAME'],\n",
    "    user=env['AWS_REDSHIFT_USER'],\n",
    "    password=env['AWS_REDSHIFT_PASSWORD']\n",
    ")\n"
   ]
  },
  {
   "cell_type": "code",
   "execution_count": 5,
   "id": "dd6fe3fc-44f0-47ae-9b84-1173be249467",
   "metadata": {
    "tags": []
   },
   "outputs": [
    {
     "name": "stdout",
     "output_type": "stream",
     "text": [
      "Table created!\n"
     ]
    }
   ],
   "source": [
    "cursor = conn.cursor()\n",
    "cursor.execute(f\"\"\"\n",
    "create table if not exists {env['AWS_REDSHIFT_SCHEMA']}.game_deals (\n",
    "     internalName VARCHAR,\n",
    "        title VARCHAR,\n",
    "        metacriticLink VARCHAR,\n",
    "        dealID VARCHAR,\n",
    "        storeID INT,\n",
    "        gameID INT,\n",
    "        salePrice DOUBLE PRECISION,\n",
    "        normalPrice DOUBLE PRECISION,\n",
    "        isOnSale INT,\n",
    "        savings DOUBLE PRECISION,\n",
    "        metacriticScore INT,\n",
    "        steamRatingText VARCHAR,\n",
    "        steamRatingPercent INT,\n",
    "        steamRatingCount INT,\n",
    "        steamAppID INT,\n",
    "        releaseDate INT,\n",
    "        lastChange INT,\n",
    "        dealRating DOUBLE PRECISION,\n",
    "        thumb VARCHAR,\n",
    "        execution_datetime VARCHAR\n",
    ");\n",
    "\"\"\")\n",
    "conn.commit()\n",
    "cursor.close()\n",
    "print(\"Table created!\")"
   ]
  },
  {
   "cell_type": "code",
   "execution_count": 6,
   "id": "dc875593-fd4e-4cc0-b7ff-51e11948d895",
   "metadata": {
    "tags": []
   },
   "outputs": [
    {
     "name": "stdout",
     "output_type": "stream",
     "text": [
      "game_deals\n"
     ]
    }
   ],
   "source": [
    "cursor = conn.cursor()\n",
    "cursor.execute(f\"\"\"\n",
    "SELECT\n",
    "  distinct tablename\n",
    "FROM\n",
    "  PG_TABLE_DEF\n",
    "WHERE\n",
    "  schemaname = '{env['AWS_REDSHIFT_SCHEMA']}';\n",
    "\"\"\")\n",
    "# resultado = cursor.fetchall()\n",
    "print(\", \".join(map(lambda x: x[0], cursor.fetchall())))\n",
    "cursor.close()"
   ]
  },
  {
   "cell_type": "code",
   "execution_count": 6,
   "id": "797d45ef-8848-454f-bae7-ac01d9b1f5ff",
   "metadata": {
    "tags": []
   },
   "outputs": [
    {
     "name": "stdout",
     "output_type": "stream",
     "text": [
      "root\n",
      " |-- internalName: string (nullable = true)\n",
      " |-- title: string (nullable = true)\n",
      " |-- metacriticLink: string (nullable = true)\n",
      " |-- dealID: string (nullable = true)\n",
      " |-- storeID: integer (nullable = true)\n",
      " |-- gameID: integer (nullable = true)\n",
      " |-- salePrice: double (nullable = true)\n",
      " |-- normalPrice: double (nullable = true)\n",
      " |-- isOnSale: integer (nullable = true)\n",
      " |-- savings: double (nullable = true)\n",
      " |-- metacriticScore: integer (nullable = true)\n",
      " |-- steamRatingText: string (nullable = true)\n",
      " |-- steamRatingPercent: integer (nullable = true)\n",
      " |-- steamRatingCount: integer (nullable = true)\n",
      " |-- steamAppID: integer (nullable = true)\n",
      " |-- releaseDate: integer (nullable = true)\n",
      " |-- lastChange: integer (nullable = true)\n",
      " |-- dealRating: double (nullable = true)\n",
      " |-- thumb: string (nullable = true)\n",
      " |-- execution_datetime: string (nullable = true)\n",
      "\n",
      "+--------------------+--------------------+--------------------+--------------------+-------+------+---------+-----------+--------+---------+---------------+---------------+------------------+----------------+----------+-----------+----------+----------+--------------------+-------------------+\n",
      "|        internalName|               title|      metacriticLink|              dealID|storeID|gameID|salePrice|normalPrice|isOnSale|  savings|metacriticScore|steamRatingText|steamRatingPercent|steamRatingCount|steamAppID|releaseDate|lastChange|dealRating|               thumb| execution_datetime|\n",
      "+--------------------+--------------------+--------------------+--------------------+-------+------+---------+-----------+--------+---------+---------------+---------------+------------------+----------------+----------+-----------+----------+----------+--------------------+-------------------+\n",
      "|      BOXMAZEEXTREME|    Box Maze Extreme|                null|Ek%2B6T9OsooEqCLM...|      1|185502|     0.28|       0.99|       1|71.717172|              0|           null|                 0|               0|    818890|          0|1685316353|       1.7|https://cdn.cloud...|2023/06/11 06:57:45|\n",
      "|DISTRICT112INCIDE...|District 112 Inci...|                null|4xd8P2SYxL221Mh36...|      1|186892|     0.28|       0.99|       1|71.717172|              0|          Mixed|                53|              15|    809180|          0|1685995100|       2.8|https://cdn.cloud...|2023/06/11 06:57:45|\n",
      "|HUBESEEKEROFACHIE...|HUBE: Seeker of A...|/game/pc/hube-see...|rKxO%2BraiM1766dU...|      1|187123|     0.28|       0.99|       1|71.717172|              0|Mostly Positive|                76|             120|    857010| 1526428800|1685992581|       2.8|https://cdn.cloud...|2023/06/11 06:57:45|\n",
      "|    ADVENTURESOFMIKE|  Adventures of Mike|/game/pc/adventur...|Z%2F00yr7DPw0qIo6...|      1|187487|     0.28|       0.99|       1|71.717172|              0|           null|                 0|               0|    858180| 1527120000|1685652832|       2.3|https://cdn.cloud...|2023/06/11 06:57:45|\n",
      "|                ORIX|               ORIX!|      /game/pc/orix!|KXVGG92aM9bh4hjz%...|      1|187705|     0.28|       0.99|       1|71.717172|              0|          Mixed|                60|              78|    863980| 1527552000|1685994062|       2.8|https://cdn.cloud...|2023/06/11 06:57:45|\n",
      "|THEWORLDOFLABYRIN...|The World of Laby...|/game/pc/the-worl...|uQE%2BN5GrSV2XJWT...|      1|187867|     0.28|       0.99|       1|71.717172|              0|       Positive|                90|              20|    864740| 1527811200|1685986359|       2.8|https://cdn.cloud...|2023/06/11 06:57:45|\n",
      "|       WINTHEGAMEWTF|  WIN THE GAME: WTF!|/game/pc/win-the-...|aiY3D9R1b2LqUmVt1...|      1|188049|     0.28|       0.99|       1|71.717172|              0|  Very Positive|                81|             149|    867140| 1528243200|1685987020|       2.8|https://cdn.cloud...|2023/06/11 06:57:45|\n",
      "|                   1|                   1|                null|5i%2BfXVjLWYG6%2F...|      1|190254|     0.28|       0.99|       1|71.717172|              0|          Mixed|                69|              73|    850820|          0|1685884316|       2.7|https://cdn.cloud...|2023/06/11 06:57:45|\n",
      "|                 WTF|                 WTF|                null|5W5AX5u59xmIAwIhu...|      1|190302|     0.28|       0.99|       1|71.717172|              0|          Mixed|                53|             141|    854770|          0|1685994669|       2.8|https://cdn.cloud...|2023/06/11 06:57:45|\n",
      "|           NAVIGATOR|           Navigator|  /game/pc/navigator|DWxhJiLYqodSu8f13...|      1|190389|     0.28|       0.99|       1|71.717172|              0|           null|                 0|               0|    896370| 1532908800|1685317494|       1.7|https://cdn.cloud...|2023/06/11 06:57:45|\n",
      "|          ROBOTCHASE|         Robot Chase|/game/pc/robot-chase|55AKSMAvRhMsIZEQ3...|      1|190526|     0.28|       0.99|       1|71.717172|              0|           null|                 0|               0|    904550| 1533081600|1685387948|       1.8|https://cdn.cloud...|2023/06/11 06:57:45|\n",
      "|          FLYINGSOUL|         Flying Soul|                null|TTCUgSvHx%2BlHGRV...|      1|190915|     0.28|       0.99|       1|71.717172|              0|           null|                 0|               0|    909270|          0|1685386913|       1.8|https://cdn.cloud...|2023/06/11 06:57:45|\n",
      "|NEEDFORSPIRITDRIN...|Need for Spirit: ...|/game/pc/need-for...|GBbTHoL%2FG5%2F9Z...|      1|191731|     0.28|       0.99|       1|71.717172|              0|          Mixed|                57|              90|    924670| 1536105600|1685410550|       2.0|https://cdn.cloud...|2023/06/11 06:57:45|\n",
      "|DRIFTSTUNTRACING2019|Drift Stunt Racin...|/game/pc/drift-st...|Q0vjZhY6Zc3QI%2FY...|      1|192676|     0.28|       0.99|       1|71.717172|              0|Mostly Positive|                73|              15|    938600| 1537920000|1685994800|       2.8|https://cdn.cloud...|2023/06/11 06:57:45|\n",
      "|        SUPERJETJUCK|      Super Jet Juck|/game/pc/super-je...|JJZMJwTvMSOiWZzvA...|      1|195133|     0.28|       0.99|       1|71.717172|              0|       Positive|                81|              11|    774121| 1542844800|1685989136|       2.8|https://cdn.cloud...|2023/06/11 06:57:45|\n",
      "|          AATOUCHGUN|       AA Touch Gun!|/game/pc/aa-touch...|aX3iKok%2BV5i4MfB...|      1|195952|     0.28|       0.99|       1|71.717172|              0|           null|                 0|               0|    986320| 1543968000|1685386862|       1.8|https://cdn.cloud...|2023/06/11 06:57:45|\n",
      "|         THENEDBALLS|       THE NED BALLS|                null|C8EDLY6fOX85Ncl2Q...|      1|197427|     0.28|       0.99|       1|71.717172|              0|           null|                 0|               0|    999310|          0|1685387702|       1.8|https://cdn.cloud...|2023/06/11 06:57:45|\n",
      "|                 100|                 100|        /game/pc/100|XsUiR0iRZ7rjRjW7%...|      1|198065|     0.28|       0.99|       1|71.717172|              0|  Very Positive|                87|              85|   1016250| 1548979200|1685566014|       2.1|https://cdn.cloud...|2023/06/11 06:57:45|\n",
      "|THROUGHABANDONEDT...|Through Abandoned...|                null|A6ihnQV7rLK1%2FbH...|      1|198330|     0.28|       0.99|       1|71.717172|              0|  Very Positive|                80|             228|    513340|          0|1686005795|       2.8|https://cdn.cloud...|2023/06/11 06:57:45|\n",
      "|           DARKSHINY|          Dark Shiny|                null|qRedsEzovBqaO5odU...|      1|198506|     0.28|       0.99|       1|71.717172|              0|           null|                 0|               0|    987780|          0|1685388106|       1.8|https://cdn.cloud...|2023/06/11 06:57:45|\n",
      "+--------------------+--------------------+--------------------+--------------------+-------+------+---------+-----------+--------+---------+---------------+---------------+------------------+----------------+----------+-----------+----------+----------+--------------------+-------------------+\n",
      "only showing top 20 rows\n",
      "\n"
     ]
    },
    {
     "data": {
      "text/plain": [
       "60"
      ]
     },
     "execution_count": 6,
     "metadata": {},
     "output_type": "execute_result"
    }
   ],
   "source": [
    "# Import data from game_deals.csv\n",
    "df_s = spark.read.option(\"header\",True) \\\n",
    "        .option(\"inferSchema\",True) \\\n",
    "        .csv(\"../../../data/landing/game_deals/\", )\n",
    "df_s.printSchema()\n",
    "df_s.show()\n",
    "df_s.count()"
   ]
  },
  {
   "cell_type": "code",
   "execution_count": 7,
   "id": "2d1e1fe4-e115-41fb-b9a2-eedc0321c5bf",
   "metadata": {
    "tags": []
   },
   "outputs": [],
   "source": [
    "df_s = df_s.na.drop(subset=['execution_datetime'])\n",
    "df_to_write = df_s.na.fill('/game/pc', subset=['metacriticLink'])"
   ]
  },
  {
   "cell_type": "code",
   "execution_count": null,
   "id": "b849b824-dad1-4bd3-bbec-38d4d09f2949",
   "metadata": {
    "tags": []
   },
   "outputs": [],
   "source": []
  },
  {
   "cell_type": "code",
   "execution_count": null,
   "id": "40bc0e79-458a-40bd-84b5-4984400ea531",
   "metadata": {},
   "outputs": [],
   "source": []
  },
  {
   "cell_type": "code",
   "execution_count": 9,
   "id": "9c9031b2-e825-43de-8771-8b58bd8eb0a6",
   "metadata": {
    "tags": []
   },
   "outputs": [],
   "source": [
    "def get_installed_jdbc_drivers():\n",
    "    spark = SparkSession.builder.getOrCreate()\n",
    "    drivers = spark._sc.getConf().get(\"spark.driver.extraClassPath\", \"\").split(\":\")\n",
    "    return [driver for driver in drivers if \"jdbc\" in driver]\n",
    "\n",
    "# Obtener los controladores JDBC instalados\n",
    "installed_drivers = get_installed_jdbc_drivers()\n",
    "\n",
    "# Imprimir los controladores JDBC instalados\n",
    "for driver in installed_drivers:\n",
    "    print(driver)"
   ]
  },
  {
   "cell_type": "code",
   "execution_count": 9,
   "id": "8fe6c9c9-e9e3-4554-8df1-fb9552dd22df",
   "metadata": {
    "tags": []
   },
   "outputs": [],
   "source": [
    "redshift_url = \"jdbc:postgresql://{host}:{port}/{database}\".format(\n",
    "    host=env['AWS_REDSHIFT_HOST'],\n",
    "    port=env['AWS_REDSHIFT_PORT'],\n",
    "    database=env['AWS_REDSHIFT_DBNAME']\n",
    ")\n",
    "\n",
    "redshift_properties = {\n",
    "    \"user\": env['AWS_REDSHIFT_USER'],\n",
    "    \"password\": env['AWS_REDSHIFT_PASSWORD'],\n",
    "    \"driver\": \"org.postgresql.Driver\",\n",
    "    \"dbtable\": f\"{env['AWS_REDSHIFT_SCHEMA']}.game_deals\"\n",
    "}"
   ]
  },
  {
   "cell_type": "code",
   "execution_count": 11,
   "id": "3b796eae-9319-4a57-85a6-ae65eadfaba3",
   "metadata": {
    "tags": []
   },
   "outputs": [],
   "source": [
    "df_to_write.write.jdbc(url=redshift_url, table='game_deals' , mode=\"overwrite\", properties=redshift_properties)"
   ]
  },
  {
   "cell_type": "code",
   "execution_count": 12,
   "id": "a9a85791-294b-4e8a-a11f-4221e1d9117e",
   "metadata": {
    "tags": []
   },
   "outputs": [],
   "source": [
    "df_to_write.write \\\n",
    "    .format(\"jdbc\") \\\n",
    "    .option(\"url\", f\"jdbc:postgresql://{env['AWS_REDSHIFT_HOST']}:{env['AWS_REDSHIFT_PORT']}/{env['AWS_REDSHIFT_DBNAME']}\") \\\n",
    "    .option(\"dbtable\", f\"{env['AWS_REDSHIFT_SCHEMA']}.game_deals\") \\\n",
    "    .option(\"user\", env['AWS_REDSHIFT_USER']) \\\n",
    "    .option(\"password\", env['AWS_REDSHIFT_PASSWORD']) \\\n",
    "    .option(\"driver\", \"org.postgresql.Driver\") \\\n",
    "    .mode(\"append\") \\\n",
    "    .save()"
   ]
  },
  {
   "cell_type": "code",
   "execution_count": null,
   "id": "1b8af703-3a33-4286-99c6-aceeee007ad6",
   "metadata": {},
   "outputs": [],
   "source": []
  }
 ],
 "metadata": {
  "kernelspec": {
   "display_name": "Python 3 (ipykernel)",
   "language": "python",
   "name": "python3"
  },
  "language_info": {
   "codemirror_mode": {
    "name": "ipython",
    "version": 3
   },
   "file_extension": ".py",
   "mimetype": "text/x-python",
   "name": "python",
   "nbconvert_exporter": "python",
   "pygments_lexer": "ipython3",
   "version": "3.10.10"
  }
 },
 "nbformat": 4,
 "nbformat_minor": 5
}
