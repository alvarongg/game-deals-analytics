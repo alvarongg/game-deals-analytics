{
 "cells": [
  {
   "cell_type": "code",
   "execution_count": 1,
   "id": "c54c4c40-0a11-4cf0-8204-16324d08b402",
   "metadata": {
    "tags": []
   },
   "outputs": [],
   "source": [
    "\n",
    "# Import SparkSession\n",
    "from pyspark.sql import SparkSession\n",
    "\n",
    "# Create SparkSession \n",
    "spark = SparkSession.builder \\\n",
    "        .master(\"local[1]\") \\\n",
    "        .appName(\"Read CSV\") \\\n",
    "        .getOrCreate()"
   ]
  },
  {
   "cell_type": "code",
   "execution_count": 10,
   "id": "c11027b7-b3ea-49f8-840a-b914c9e15037",
   "metadata": {
    "tags": []
   },
   "outputs": [
    {
     "name": "stdout",
     "output_type": "stream",
     "text": [
      "root\n",
      " |-- internalName: string (nullable = true)\n",
      " |-- title: string (nullable = true)\n",
      " |-- metacriticLink: string (nullable = true)\n",
      " |-- dealID: string (nullable = true)\n",
      " |-- storeID: integer (nullable = true)\n",
      " |-- gameID: integer (nullable = true)\n",
      " |-- salePrice: double (nullable = true)\n",
      " |-- normalPrice: double (nullable = true)\n",
      " |-- isOnSale: integer (nullable = true)\n",
      " |-- savings: double (nullable = true)\n",
      " |-- metacriticScore: integer (nullable = true)\n",
      " |-- steamRatingText: string (nullable = true)\n",
      " |-- steamRatingPercent: integer (nullable = true)\n",
      " |-- steamRatingCount: integer (nullable = true)\n",
      " |-- steamAppID: integer (nullable = true)\n",
      " |-- releaseDate: integer (nullable = true)\n",
      " |-- lastChange: integer (nullable = true)\n",
      " |-- dealRating: double (nullable = true)\n",
      " |-- thumb: string (nullable = true)\n",
      " |-- execution_datetime: string (nullable = true)\n",
      "\n",
      "+--------------------+--------------------+--------------------+--------------------+-------+------+---------+-----------+--------+---------+---------------+---------------+------------------+----------------+----------+-----------+----------+----------+--------------------+-------------------+\n",
      "|        internalName|               title|      metacriticLink|              dealID|storeID|gameID|salePrice|normalPrice|isOnSale|  savings|metacriticScore|steamRatingText|steamRatingPercent|steamRatingCount|steamAppID|releaseDate|lastChange|dealRating|               thumb| execution_datetime|\n",
      "+--------------------+--------------------+--------------------+--------------------+-------+------+---------+-----------+--------+---------+---------------+---------------+------------------+----------------+----------+-----------+----------+----------+--------------------+-------------------+\n",
      "|      BOXMAZEEXTREME|    Box Maze Extreme|                null|Ek%2B6T9OsooEqCLM...|      1|185502|     0.28|       0.99|       1|71.717172|              0|           null|                 0|               0|    818890|          0|1685316353|       1.7|https://cdn.cloud...|2023/06/11 06:57:45|\n",
      "|DISTRICT112INCIDE...|District 112 Inci...|                null|4xd8P2SYxL221Mh36...|      1|186892|     0.28|       0.99|       1|71.717172|              0|          Mixed|                53|              15|    809180|          0|1685995100|       2.8|https://cdn.cloud...|2023/06/11 06:57:45|\n",
      "|HUBESEEKEROFACHIE...|HUBE: Seeker of A...|/game/pc/hube-see...|rKxO%2BraiM1766dU...|      1|187123|     0.28|       0.99|       1|71.717172|              0|Mostly Positive|                76|             120|    857010| 1526428800|1685992581|       2.8|https://cdn.cloud...|2023/06/11 06:57:45|\n",
      "|    ADVENTURESOFMIKE|  Adventures of Mike|/game/pc/adventur...|Z%2F00yr7DPw0qIo6...|      1|187487|     0.28|       0.99|       1|71.717172|              0|           null|                 0|               0|    858180| 1527120000|1685652832|       2.3|https://cdn.cloud...|2023/06/11 06:57:45|\n",
      "|                ORIX|               ORIX!|      /game/pc/orix!|KXVGG92aM9bh4hjz%...|      1|187705|     0.28|       0.99|       1|71.717172|              0|          Mixed|                60|              78|    863980| 1527552000|1685994062|       2.8|https://cdn.cloud...|2023/06/11 06:57:45|\n",
      "|THEWORLDOFLABYRIN...|The World of Laby...|/game/pc/the-worl...|uQE%2BN5GrSV2XJWT...|      1|187867|     0.28|       0.99|       1|71.717172|              0|       Positive|                90|              20|    864740| 1527811200|1685986359|       2.8|https://cdn.cloud...|2023/06/11 06:57:45|\n",
      "|       WINTHEGAMEWTF|  WIN THE GAME: WTF!|/game/pc/win-the-...|aiY3D9R1b2LqUmVt1...|      1|188049|     0.28|       0.99|       1|71.717172|              0|  Very Positive|                81|             149|    867140| 1528243200|1685987020|       2.8|https://cdn.cloud...|2023/06/11 06:57:45|\n",
      "|                   1|                   1|                null|5i%2BfXVjLWYG6%2F...|      1|190254|     0.28|       0.99|       1|71.717172|              0|          Mixed|                69|              73|    850820|          0|1685884316|       2.7|https://cdn.cloud...|2023/06/11 06:57:45|\n",
      "|                 WTF|                 WTF|                null|5W5AX5u59xmIAwIhu...|      1|190302|     0.28|       0.99|       1|71.717172|              0|          Mixed|                53|             141|    854770|          0|1685994669|       2.8|https://cdn.cloud...|2023/06/11 06:57:45|\n",
      "|           NAVIGATOR|           Navigator|  /game/pc/navigator|DWxhJiLYqodSu8f13...|      1|190389|     0.28|       0.99|       1|71.717172|              0|           null|                 0|               0|    896370| 1532908800|1685317494|       1.7|https://cdn.cloud...|2023/06/11 06:57:45|\n",
      "|          ROBOTCHASE|         Robot Chase|/game/pc/robot-chase|55AKSMAvRhMsIZEQ3...|      1|190526|     0.28|       0.99|       1|71.717172|              0|           null|                 0|               0|    904550| 1533081600|1685387948|       1.8|https://cdn.cloud...|2023/06/11 06:57:45|\n",
      "|          FLYINGSOUL|         Flying Soul|                null|TTCUgSvHx%2BlHGRV...|      1|190915|     0.28|       0.99|       1|71.717172|              0|           null|                 0|               0|    909270|          0|1685386913|       1.8|https://cdn.cloud...|2023/06/11 06:57:45|\n",
      "|NEEDFORSPIRITDRIN...|Need for Spirit: ...|/game/pc/need-for...|GBbTHoL%2FG5%2F9Z...|      1|191731|     0.28|       0.99|       1|71.717172|              0|          Mixed|                57|              90|    924670| 1536105600|1685410550|       2.0|https://cdn.cloud...|2023/06/11 06:57:45|\n",
      "|DRIFTSTUNTRACING2019|Drift Stunt Racin...|/game/pc/drift-st...|Q0vjZhY6Zc3QI%2FY...|      1|192676|     0.28|       0.99|       1|71.717172|              0|Mostly Positive|                73|              15|    938600| 1537920000|1685994800|       2.8|https://cdn.cloud...|2023/06/11 06:57:45|\n",
      "|        SUPERJETJUCK|      Super Jet Juck|/game/pc/super-je...|JJZMJwTvMSOiWZzvA...|      1|195133|     0.28|       0.99|       1|71.717172|              0|       Positive|                81|              11|    774121| 1542844800|1685989136|       2.8|https://cdn.cloud...|2023/06/11 06:57:45|\n",
      "|          AATOUCHGUN|       AA Touch Gun!|/game/pc/aa-touch...|aX3iKok%2BV5i4MfB...|      1|195952|     0.28|       0.99|       1|71.717172|              0|           null|                 0|               0|    986320| 1543968000|1685386862|       1.8|https://cdn.cloud...|2023/06/11 06:57:45|\n",
      "|         THENEDBALLS|       THE NED BALLS|                null|C8EDLY6fOX85Ncl2Q...|      1|197427|     0.28|       0.99|       1|71.717172|              0|           null|                 0|               0|    999310|          0|1685387702|       1.8|https://cdn.cloud...|2023/06/11 06:57:45|\n",
      "|                 100|                 100|        /game/pc/100|XsUiR0iRZ7rjRjW7%...|      1|198065|     0.28|       0.99|       1|71.717172|              0|  Very Positive|                87|              85|   1016250| 1548979200|1685566014|       2.1|https://cdn.cloud...|2023/06/11 06:57:45|\n",
      "|THROUGHABANDONEDT...|Through Abandoned...|                null|A6ihnQV7rLK1%2FbH...|      1|198330|     0.28|       0.99|       1|71.717172|              0|  Very Positive|                80|             228|    513340|          0|1686005795|       2.8|https://cdn.cloud...|2023/06/11 06:57:45|\n",
      "|           DARKSHINY|          Dark Shiny|                null|qRedsEzovBqaO5odU...|      1|198506|     0.28|       0.99|       1|71.717172|              0|           null|                 0|               0|    987780|          0|1685388106|       1.8|https://cdn.cloud...|2023/06/11 06:57:45|\n",
      "+--------------------+--------------------+--------------------+--------------------+-------+------+---------+-----------+--------+---------+---------------+---------------+------------------+----------------+----------+-----------+----------+----------+--------------------+-------------------+\n",
      "only showing top 20 rows\n",
      "\n"
     ]
    },
    {
     "data": {
      "text/plain": [
       "60"
      ]
     },
     "execution_count": 10,
     "metadata": {},
     "output_type": "execute_result"
    }
   ],
   "source": [
    "# Import data from agents.csv\n",
    "df_s = spark.read.option(\"header\",True) \\\n",
    "        .option(\"inferSchema\",True) \\\n",
    "        .csv(\"../../../data/landing/game_deals/\", )\n",
    "df_s.printSchema()\n",
    "df_s.show()\n",
    "df_s.count()"
   ]
  },
  {
   "cell_type": "code",
   "execution_count": 11,
   "id": "b5bee312-30cd-4fa4-b836-c575f0cfac91",
   "metadata": {
    "tags": []
   },
   "outputs": [
    {
     "name": "stdout",
     "output_type": "stream",
     "text": [
      "root\n",
      " |-- internalName: string (nullable = true)\n",
      " |-- title: string (nullable = true)\n",
      " |-- metacriticLink: string (nullable = true)\n",
      " |-- dealID: string (nullable = true)\n",
      " |-- storeID: integer (nullable = true)\n",
      " |-- gameID: integer (nullable = true)\n",
      " |-- salePrice: double (nullable = true)\n",
      " |-- normalPrice: double (nullable = true)\n",
      " |-- isOnSale: integer (nullable = true)\n",
      " |-- savings: double (nullable = true)\n",
      " |-- metacriticScore: integer (nullable = true)\n",
      " |-- steamRatingText: string (nullable = true)\n",
      " |-- steamRatingPercent: integer (nullable = true)\n",
      " |-- steamRatingCount: integer (nullable = true)\n",
      " |-- steamAppID: integer (nullable = true)\n",
      " |-- releaseDate: integer (nullable = true)\n",
      " |-- lastChange: integer (nullable = true)\n",
      " |-- dealRating: double (nullable = true)\n",
      " |-- thumb: string (nullable = true)\n",
      " |-- execution_datetime: string (nullable = true)\n",
      "\n",
      "+--------------------+--------------------+--------------------+--------------------+-------+------+---------+-----------+--------+---------+---------------+---------------+------------------+----------------+----------+-----------+----------+----------+--------------------+-------------------+\n",
      "|        internalName|               title|      metacriticLink|              dealID|storeID|gameID|salePrice|normalPrice|isOnSale|  savings|metacriticScore|steamRatingText|steamRatingPercent|steamRatingCount|steamAppID|releaseDate|lastChange|dealRating|               thumb| execution_datetime|\n",
      "+--------------------+--------------------+--------------------+--------------------+-------+------+---------+-----------+--------+---------+---------------+---------------+------------------+----------------+----------+-----------+----------+----------+--------------------+-------------------+\n",
      "|HUBESEEKEROFACHIE...|HUBE: Seeker of A...|/game/pc/hube-see...|rKxO%2BraiM1766dU...|      1|187123|     0.28|       0.99|       1|71.717172|              0|Mostly Positive|                76|             120|    857010| 1526428800|1685992581|       2.8|https://cdn.cloud...|2023/06/11 06:57:45|\n",
      "|                ORIX|               ORIX!|      /game/pc/orix!|KXVGG92aM9bh4hjz%...|      1|187705|     0.28|       0.99|       1|71.717172|              0|          Mixed|                60|              78|    863980| 1527552000|1685994062|       2.8|https://cdn.cloud...|2023/06/11 06:57:45|\n",
      "|THEWORLDOFLABYRIN...|The World of Laby...|/game/pc/the-worl...|uQE%2BN5GrSV2XJWT...|      1|187867|     0.28|       0.99|       1|71.717172|              0|       Positive|                90|              20|    864740| 1527811200|1685986359|       2.8|https://cdn.cloud...|2023/06/11 06:57:45|\n",
      "|       WINTHEGAMEWTF|  WIN THE GAME: WTF!|/game/pc/win-the-...|aiY3D9R1b2LqUmVt1...|      1|188049|     0.28|       0.99|       1|71.717172|              0|  Very Positive|                81|             149|    867140| 1528243200|1685987020|       2.8|https://cdn.cloud...|2023/06/11 06:57:45|\n",
      "|NEEDFORSPIRITDRIN...|Need for Spirit: ...|/game/pc/need-for...|GBbTHoL%2FG5%2F9Z...|      1|191731|     0.28|       0.99|       1|71.717172|              0|          Mixed|                57|              90|    924670| 1536105600|1685410550|       2.0|https://cdn.cloud...|2023/06/11 06:57:45|\n",
      "|DRIFTSTUNTRACING2019|Drift Stunt Racin...|/game/pc/drift-st...|Q0vjZhY6Zc3QI%2FY...|      1|192676|     0.28|       0.99|       1|71.717172|              0|Mostly Positive|                73|              15|    938600| 1537920000|1685994800|       2.8|https://cdn.cloud...|2023/06/11 06:57:45|\n",
      "|        SUPERJETJUCK|      Super Jet Juck|/game/pc/super-je...|JJZMJwTvMSOiWZzvA...|      1|195133|     0.28|       0.99|       1|71.717172|              0|       Positive|                81|              11|    774121| 1542844800|1685989136|       2.8|https://cdn.cloud...|2023/06/11 06:57:45|\n",
      "|                 100|                 100|        /game/pc/100|XsUiR0iRZ7rjRjW7%...|      1|198065|     0.28|       0.99|       1|71.717172|              0|  Very Positive|                87|              85|   1016250| 1548979200|1685566014|       2.1|https://cdn.cloud...|2023/06/11 06:57:45|\n",
      "|             GROOMER|             Groomer|    /game/pc/groomer|%2F6n2du3CliAPQxa...|      1|199356|     0.28|       0.99|       1|71.717172|              0|Mostly Positive|                70|              24|   1003070| 1552262400|1685993055|       2.8|https://cdn.cloud...|2023/06/11 06:57:45|\n",
      "|THROUGHABANDONEDT...|Through Abandoned...|/game/pc/through-...|4Gno7kYyYT84915Q8...|      1|199691|     0.28|       0.99|       1|71.717172|              0|          Mixed|                48|             108|   1012460| 1553472000|1685987268|       2.8|https://cdn.cloud...|2023/06/11 06:57:45|\n",
      "|             PONGLOW|             PonGlow|    /game/pc/ponglow|wp7u6MMOGU%2B5QwS...|      1|202364|     0.28|       0.99|       1|71.717172|              0|       Positive|                90|              11|   1091910| 1560124800|1685992152|       2.8|https://cdn.cloud...|2023/06/11 06:57:45|\n",
      "|   KINGOFDRAGONBALLS|King of Dragon Balls|/game/pc/king-of-...|JMF2QiJ8%2BLeV97Z...|      1|203426|     0.28|       0.99|       1|71.717172|              0|          Mixed|                66|              27|   1114000| 1563840000|1685995029|       2.8|https://cdn.cloud...|2023/06/11 06:57:45|\n",
      "|          FRAGILEBOX|         Fragile Box|/game/pc/fragile-box|ByVrPejO9S%2Fvouu...|      1|211274|     0.28|       0.99|       1|71.717172|              0|       Positive|                81|              27|   1244210| 1582243200|1686248648|       3.3|https://cdn.cloud...|2023/06/11 06:57:45|\n",
      "|              POLARY|              Polary|     /game/pc/polary|PP%2BsTM4%2BovWvv...|      1|212246|     0.28|       0.99|       1|71.717172|              0|          Mixed|                64|              14|   1262780| 1584662400|1686254969|       3.3|https://cdn.cloud...|2023/06/11 06:57:45|\n",
      "|             THEDEED|            The Deed|   /game/pc/the-deed|UVlwpyi1a1WKL3UIW...|      1|147151|     0.28|       0.99|       1|71.717172|              0|  Very Positive|                91|            1833|    420740| 1448236800|1685768962|       2.6|https://cdn.cloud...|2023/06/11 06:57:45|\n",
      "|          POLYGONEER|          Polygoneer| /game/pc/polygoneer|FA9DiI5Vv%2BTmk8W...|      1|172361|     0.28|       0.99|       1|71.717172|              0|  Very Positive|                85|             194|    684680| 1503532800|1685837607|       2.7|https://cdn.cloud...|2023/06/11 06:57:45|\n",
      "|        GOKARTRACING|      Go-Kart Racing|/game/pc/go-kart-...|KjyxLz2rAS0y8c%2B...|      1|216645|     0.28|       0.99|       1|71.717172|              0|          Mixed|                60|             105|    844750| 1524614400|1685994016|       2.8|https://cdn.cloud...|2023/06/11 06:57:45|\n",
      "|   ROULETTESIMULATOR|  Roulette Simulator|/game/pc/roulette...|7nLB%2FKzd%2BwPuI...|      1|216646|     0.28|       0.99|       1|71.717172|              0|          Mixed|                53|              26|    779570| 1516320000|1685993822|       2.8|https://cdn.cloud...|2023/06/11 06:57:45|\n",
      "|  ROULETTESIMULATOR2|Roulette Simulator 2|/game/pc/roulette...|VrwGuqcDUdoViLN2L...|      1|216651|     0.28|       0.99|       1|71.717172|              0|          Mixed|                55|              20|   1002490| 1546214400|1685993731|       2.8|https://cdn.cloud...|2023/06/11 06:57:45|\n",
      "|           ALIENCAT2|         Alien Cat 2|/game/pc/alien-cat-2|c8m3c6B1j5K4gdvg%...|      1|216986|     0.28|       0.99|       1|71.717172|              0|  Very Positive|                98|              68|   1324030| 1592179200|1685566228|       2.1|https://cdn.cloud...|2023/06/11 06:57:45|\n",
      "+--------------------+--------------------+--------------------+--------------------+-------+------+---------+-----------+--------+---------+---------------+---------------+------------------+----------------+----------+-----------+----------+----------+--------------------+-------------------+\n",
      "only showing top 20 rows\n",
      "\n"
     ]
    },
    {
     "data": {
      "text/plain": [
       "30"
      ]
     },
     "execution_count": 11,
     "metadata": {},
     "output_type": "execute_result"
    }
   ],
   "source": [
    "null_dropped=df_s.na.drop()\n",
    "null_dropped.printSchema()\n",
    "null_dropped.show()\n",
    "null_dropped.count()"
   ]
  },
  {
   "cell_type": "code",
   "execution_count": 12,
   "id": "351ed3a4-4214-456e-a19e-4f57e4b20614",
   "metadata": {
    "tags": []
   },
   "outputs": [
    {
     "name": "stdout",
     "output_type": "stream",
     "text": [
      "root\n",
      " |-- internalName: string (nullable = true)\n",
      " |-- title: string (nullable = true)\n",
      " |-- metacriticLink: string (nullable = true)\n",
      " |-- dealID: string (nullable = true)\n",
      " |-- storeID: integer (nullable = true)\n",
      " |-- gameID: integer (nullable = true)\n",
      " |-- salePrice: double (nullable = true)\n",
      " |-- normalPrice: double (nullable = true)\n",
      " |-- isOnSale: integer (nullable = true)\n",
      " |-- savings: double (nullable = true)\n",
      " |-- metacriticScore: integer (nullable = true)\n",
      " |-- steamRatingText: string (nullable = true)\n",
      " |-- steamRatingPercent: integer (nullable = true)\n",
      " |-- steamRatingCount: integer (nullable = true)\n",
      " |-- steamAppID: integer (nullable = true)\n",
      " |-- releaseDate: integer (nullable = true)\n",
      " |-- lastChange: integer (nullable = true)\n",
      " |-- dealRating: double (nullable = true)\n",
      " |-- thumb: string (nullable = true)\n",
      " |-- execution_datetime: string (nullable = true)\n",
      "\n",
      "+--------------------+--------------------+--------------------+--------------------+-------+------+---------+-----------+--------+---------+---------------+---------------+------------------+----------------+----------+-----------+----------+----------+--------------------+-------------------+\n",
      "|        internalName|               title|      metacriticLink|              dealID|storeID|gameID|salePrice|normalPrice|isOnSale|  savings|metacriticScore|steamRatingText|steamRatingPercent|steamRatingCount|steamAppID|releaseDate|lastChange|dealRating|               thumb| execution_datetime|\n",
      "+--------------------+--------------------+--------------------+--------------------+-------+------+---------+-----------+--------+---------+---------------+---------------+------------------+----------------+----------+-----------+----------+----------+--------------------+-------------------+\n",
      "|      BOXMAZEEXTREME|    Box Maze Extreme|                null|Ek%2B6T9OsooEqCLM...|      1|185502|     0.28|       0.99|       1|71.717172|              0|           null|                 0|               0|    818890|          0|1685316353|       1.7|https://cdn.cloud...|2023/06/11 06:57:45|\n",
      "|DISTRICT112INCIDE...|District 112 Inci...|                null|4xd8P2SYxL221Mh36...|      1|186892|     0.28|       0.99|       1|71.717172|              0|          Mixed|                53|              15|    809180|          0|1685995100|       2.8|https://cdn.cloud...|2023/06/11 06:57:45|\n",
      "|HUBESEEKEROFACHIE...|HUBE: Seeker of A...|/game/pc/hube-see...|rKxO%2BraiM1766dU...|      1|187123|     0.28|       0.99|       1|71.717172|              0|Mostly Positive|                76|             120|    857010| 1526428800|1685992581|       2.8|https://cdn.cloud...|2023/06/11 06:57:45|\n",
      "|    ADVENTURESOFMIKE|  Adventures of Mike|/game/pc/adventur...|Z%2F00yr7DPw0qIo6...|      1|187487|     0.28|       0.99|       1|71.717172|              0|           null|                 0|               0|    858180| 1527120000|1685652832|       2.3|https://cdn.cloud...|2023/06/11 06:57:45|\n",
      "|                ORIX|               ORIX!|      /game/pc/orix!|KXVGG92aM9bh4hjz%...|      1|187705|     0.28|       0.99|       1|71.717172|              0|          Mixed|                60|              78|    863980| 1527552000|1685994062|       2.8|https://cdn.cloud...|2023/06/11 06:57:45|\n",
      "|THEWORLDOFLABYRIN...|The World of Laby...|/game/pc/the-worl...|uQE%2BN5GrSV2XJWT...|      1|187867|     0.28|       0.99|       1|71.717172|              0|       Positive|                90|              20|    864740| 1527811200|1685986359|       2.8|https://cdn.cloud...|2023/06/11 06:57:45|\n",
      "|       WINTHEGAMEWTF|  WIN THE GAME: WTF!|/game/pc/win-the-...|aiY3D9R1b2LqUmVt1...|      1|188049|     0.28|       0.99|       1|71.717172|              0|  Very Positive|                81|             149|    867140| 1528243200|1685987020|       2.8|https://cdn.cloud...|2023/06/11 06:57:45|\n",
      "|                   1|                   1|                null|5i%2BfXVjLWYG6%2F...|      1|190254|     0.28|       0.99|       1|71.717172|              0|          Mixed|                69|              73|    850820|          0|1685884316|       2.7|https://cdn.cloud...|2023/06/11 06:57:45|\n",
      "|                 WTF|                 WTF|                null|5W5AX5u59xmIAwIhu...|      1|190302|     0.28|       0.99|       1|71.717172|              0|          Mixed|                53|             141|    854770|          0|1685994669|       2.8|https://cdn.cloud...|2023/06/11 06:57:45|\n",
      "|           NAVIGATOR|           Navigator|  /game/pc/navigator|DWxhJiLYqodSu8f13...|      1|190389|     0.28|       0.99|       1|71.717172|              0|           null|                 0|               0|    896370| 1532908800|1685317494|       1.7|https://cdn.cloud...|2023/06/11 06:57:45|\n",
      "|          ROBOTCHASE|         Robot Chase|/game/pc/robot-chase|55AKSMAvRhMsIZEQ3...|      1|190526|     0.28|       0.99|       1|71.717172|              0|           null|                 0|               0|    904550| 1533081600|1685387948|       1.8|https://cdn.cloud...|2023/06/11 06:57:45|\n",
      "|          FLYINGSOUL|         Flying Soul|                null|TTCUgSvHx%2BlHGRV...|      1|190915|     0.28|       0.99|       1|71.717172|              0|           null|                 0|               0|    909270|          0|1685386913|       1.8|https://cdn.cloud...|2023/06/11 06:57:45|\n",
      "|NEEDFORSPIRITDRIN...|Need for Spirit: ...|/game/pc/need-for...|GBbTHoL%2FG5%2F9Z...|      1|191731|     0.28|       0.99|       1|71.717172|              0|          Mixed|                57|              90|    924670| 1536105600|1685410550|       2.0|https://cdn.cloud...|2023/06/11 06:57:45|\n",
      "|DRIFTSTUNTRACING2019|Drift Stunt Racin...|/game/pc/drift-st...|Q0vjZhY6Zc3QI%2FY...|      1|192676|     0.28|       0.99|       1|71.717172|              0|Mostly Positive|                73|              15|    938600| 1537920000|1685994800|       2.8|https://cdn.cloud...|2023/06/11 06:57:45|\n",
      "|        SUPERJETJUCK|      Super Jet Juck|/game/pc/super-je...|JJZMJwTvMSOiWZzvA...|      1|195133|     0.28|       0.99|       1|71.717172|              0|       Positive|                81|              11|    774121| 1542844800|1685989136|       2.8|https://cdn.cloud...|2023/06/11 06:57:45|\n",
      "|          AATOUCHGUN|       AA Touch Gun!|/game/pc/aa-touch...|aX3iKok%2BV5i4MfB...|      1|195952|     0.28|       0.99|       1|71.717172|              0|           null|                 0|               0|    986320| 1543968000|1685386862|       1.8|https://cdn.cloud...|2023/06/11 06:57:45|\n",
      "|         THENEDBALLS|       THE NED BALLS|                null|C8EDLY6fOX85Ncl2Q...|      1|197427|     0.28|       0.99|       1|71.717172|              0|           null|                 0|               0|    999310|          0|1685387702|       1.8|https://cdn.cloud...|2023/06/11 06:57:45|\n",
      "|                 100|                 100|        /game/pc/100|XsUiR0iRZ7rjRjW7%...|      1|198065|     0.28|       0.99|       1|71.717172|              0|  Very Positive|                87|              85|   1016250| 1548979200|1685566014|       2.1|https://cdn.cloud...|2023/06/11 06:57:45|\n",
      "|THROUGHABANDONEDT...|Through Abandoned...|                null|A6ihnQV7rLK1%2FbH...|      1|198330|     0.28|       0.99|       1|71.717172|              0|  Very Positive|                80|             228|    513340|          0|1686005795|       2.8|https://cdn.cloud...|2023/06/11 06:57:45|\n",
      "|           DARKSHINY|          Dark Shiny|                null|qRedsEzovBqaO5odU...|      1|198506|     0.28|       0.99|       1|71.717172|              0|           null|                 0|               0|    987780|          0|1685388106|       1.8|https://cdn.cloud...|2023/06/11 06:57:45|\n",
      "+--------------------+--------------------+--------------------+--------------------+-------+------+---------+-----------+--------+---------+---------------+---------------+------------------+----------------+----------+-----------+----------+----------+--------------------+-------------------+\n",
      "only showing top 20 rows\n",
      "\n"
     ]
    },
    {
     "data": {
      "text/plain": [
       "60"
      ]
     },
     "execution_count": 12,
     "metadata": {},
     "output_type": "execute_result"
    }
   ],
   "source": [
    "null_dropped = df_s.na.drop(subset=['execution_datetime'])\n",
    "null_dropped.printSchema()\n",
    "null_dropped.show()\n",
    "null_dropped.count()"
   ]
  },
  {
   "cell_type": "code",
   "execution_count": 14,
   "id": "410cf0b4-6fa8-427e-af35-b35362fd52d4",
   "metadata": {
    "tags": []
   },
   "outputs": [],
   "source": [
    "# Replace Information Tech with IT\n",
    "null_dropped = null_dropped.na.fill('/game/pc', subset=['metacriticLink'])"
   ]
  },
  {
   "cell_type": "code",
   "execution_count": 15,
   "id": "52fefb5a-ce47-4a96-8037-68f3a4bf1397",
   "metadata": {
    "tags": []
   },
   "outputs": [
    {
     "name": "stdout",
     "output_type": "stream",
     "text": [
      "root\n",
      " |-- internalName: string (nullable = true)\n",
      " |-- title: string (nullable = true)\n",
      " |-- metacriticLink: string (nullable = false)\n",
      " |-- dealID: string (nullable = true)\n",
      " |-- storeID: integer (nullable = true)\n",
      " |-- gameID: integer (nullable = true)\n",
      " |-- salePrice: double (nullable = true)\n",
      " |-- normalPrice: double (nullable = true)\n",
      " |-- isOnSale: integer (nullable = true)\n",
      " |-- savings: double (nullable = true)\n",
      " |-- metacriticScore: integer (nullable = true)\n",
      " |-- steamRatingText: string (nullable = true)\n",
      " |-- steamRatingPercent: integer (nullable = true)\n",
      " |-- steamRatingCount: integer (nullable = true)\n",
      " |-- steamAppID: integer (nullable = true)\n",
      " |-- releaseDate: integer (nullable = true)\n",
      " |-- lastChange: integer (nullable = true)\n",
      " |-- dealRating: double (nullable = true)\n",
      " |-- thumb: string (nullable = true)\n",
      " |-- execution_datetime: string (nullable = true)\n",
      "\n",
      "+--------------------+--------------------+--------------------+--------------------+-------+------+---------+-----------+--------+---------+---------------+---------------+------------------+----------------+----------+-----------+----------+----------+--------------------+-------------------+\n",
      "|        internalName|               title|      metacriticLink|              dealID|storeID|gameID|salePrice|normalPrice|isOnSale|  savings|metacriticScore|steamRatingText|steamRatingPercent|steamRatingCount|steamAppID|releaseDate|lastChange|dealRating|               thumb| execution_datetime|\n",
      "+--------------------+--------------------+--------------------+--------------------+-------+------+---------+-----------+--------+---------+---------------+---------------+------------------+----------------+----------+-----------+----------+----------+--------------------+-------------------+\n",
      "|      BOXMAZEEXTREME|    Box Maze Extreme|            /game/pc|Ek%2B6T9OsooEqCLM...|      1|185502|     0.28|       0.99|       1|71.717172|              0|           null|                 0|               0|    818890|          0|1685316353|       1.7|https://cdn.cloud...|2023/06/11 06:57:45|\n",
      "|DISTRICT112INCIDE...|District 112 Inci...|            /game/pc|4xd8P2SYxL221Mh36...|      1|186892|     0.28|       0.99|       1|71.717172|              0|          Mixed|                53|              15|    809180|          0|1685995100|       2.8|https://cdn.cloud...|2023/06/11 06:57:45|\n",
      "|HUBESEEKEROFACHIE...|HUBE: Seeker of A...|/game/pc/hube-see...|rKxO%2BraiM1766dU...|      1|187123|     0.28|       0.99|       1|71.717172|              0|Mostly Positive|                76|             120|    857010| 1526428800|1685992581|       2.8|https://cdn.cloud...|2023/06/11 06:57:45|\n",
      "|    ADVENTURESOFMIKE|  Adventures of Mike|/game/pc/adventur...|Z%2F00yr7DPw0qIo6...|      1|187487|     0.28|       0.99|       1|71.717172|              0|           null|                 0|               0|    858180| 1527120000|1685652832|       2.3|https://cdn.cloud...|2023/06/11 06:57:45|\n",
      "|                ORIX|               ORIX!|      /game/pc/orix!|KXVGG92aM9bh4hjz%...|      1|187705|     0.28|       0.99|       1|71.717172|              0|          Mixed|                60|              78|    863980| 1527552000|1685994062|       2.8|https://cdn.cloud...|2023/06/11 06:57:45|\n",
      "|THEWORLDOFLABYRIN...|The World of Laby...|/game/pc/the-worl...|uQE%2BN5GrSV2XJWT...|      1|187867|     0.28|       0.99|       1|71.717172|              0|       Positive|                90|              20|    864740| 1527811200|1685986359|       2.8|https://cdn.cloud...|2023/06/11 06:57:45|\n",
      "|       WINTHEGAMEWTF|  WIN THE GAME: WTF!|/game/pc/win-the-...|aiY3D9R1b2LqUmVt1...|      1|188049|     0.28|       0.99|       1|71.717172|              0|  Very Positive|                81|             149|    867140| 1528243200|1685987020|       2.8|https://cdn.cloud...|2023/06/11 06:57:45|\n",
      "|                   1|                   1|            /game/pc|5i%2BfXVjLWYG6%2F...|      1|190254|     0.28|       0.99|       1|71.717172|              0|          Mixed|                69|              73|    850820|          0|1685884316|       2.7|https://cdn.cloud...|2023/06/11 06:57:45|\n",
      "|                 WTF|                 WTF|            /game/pc|5W5AX5u59xmIAwIhu...|      1|190302|     0.28|       0.99|       1|71.717172|              0|          Mixed|                53|             141|    854770|          0|1685994669|       2.8|https://cdn.cloud...|2023/06/11 06:57:45|\n",
      "|           NAVIGATOR|           Navigator|  /game/pc/navigator|DWxhJiLYqodSu8f13...|      1|190389|     0.28|       0.99|       1|71.717172|              0|           null|                 0|               0|    896370| 1532908800|1685317494|       1.7|https://cdn.cloud...|2023/06/11 06:57:45|\n",
      "|          ROBOTCHASE|         Robot Chase|/game/pc/robot-chase|55AKSMAvRhMsIZEQ3...|      1|190526|     0.28|       0.99|       1|71.717172|              0|           null|                 0|               0|    904550| 1533081600|1685387948|       1.8|https://cdn.cloud...|2023/06/11 06:57:45|\n",
      "|          FLYINGSOUL|         Flying Soul|            /game/pc|TTCUgSvHx%2BlHGRV...|      1|190915|     0.28|       0.99|       1|71.717172|              0|           null|                 0|               0|    909270|          0|1685386913|       1.8|https://cdn.cloud...|2023/06/11 06:57:45|\n",
      "|NEEDFORSPIRITDRIN...|Need for Spirit: ...|/game/pc/need-for...|GBbTHoL%2FG5%2F9Z...|      1|191731|     0.28|       0.99|       1|71.717172|              0|          Mixed|                57|              90|    924670| 1536105600|1685410550|       2.0|https://cdn.cloud...|2023/06/11 06:57:45|\n",
      "|DRIFTSTUNTRACING2019|Drift Stunt Racin...|/game/pc/drift-st...|Q0vjZhY6Zc3QI%2FY...|      1|192676|     0.28|       0.99|       1|71.717172|              0|Mostly Positive|                73|              15|    938600| 1537920000|1685994800|       2.8|https://cdn.cloud...|2023/06/11 06:57:45|\n",
      "|        SUPERJETJUCK|      Super Jet Juck|/game/pc/super-je...|JJZMJwTvMSOiWZzvA...|      1|195133|     0.28|       0.99|       1|71.717172|              0|       Positive|                81|              11|    774121| 1542844800|1685989136|       2.8|https://cdn.cloud...|2023/06/11 06:57:45|\n",
      "|          AATOUCHGUN|       AA Touch Gun!|/game/pc/aa-touch...|aX3iKok%2BV5i4MfB...|      1|195952|     0.28|       0.99|       1|71.717172|              0|           null|                 0|               0|    986320| 1543968000|1685386862|       1.8|https://cdn.cloud...|2023/06/11 06:57:45|\n",
      "|         THENEDBALLS|       THE NED BALLS|            /game/pc|C8EDLY6fOX85Ncl2Q...|      1|197427|     0.28|       0.99|       1|71.717172|              0|           null|                 0|               0|    999310|          0|1685387702|       1.8|https://cdn.cloud...|2023/06/11 06:57:45|\n",
      "|                 100|                 100|        /game/pc/100|XsUiR0iRZ7rjRjW7%...|      1|198065|     0.28|       0.99|       1|71.717172|              0|  Very Positive|                87|              85|   1016250| 1548979200|1685566014|       2.1|https://cdn.cloud...|2023/06/11 06:57:45|\n",
      "|THROUGHABANDONEDT...|Through Abandoned...|            /game/pc|A6ihnQV7rLK1%2FbH...|      1|198330|     0.28|       0.99|       1|71.717172|              0|  Very Positive|                80|             228|    513340|          0|1686005795|       2.8|https://cdn.cloud...|2023/06/11 06:57:45|\n",
      "|           DARKSHINY|          Dark Shiny|            /game/pc|qRedsEzovBqaO5odU...|      1|198506|     0.28|       0.99|       1|71.717172|              0|           null|                 0|               0|    987780|          0|1685388106|       1.8|https://cdn.cloud...|2023/06/11 06:57:45|\n",
      "+--------------------+--------------------+--------------------+--------------------+-------+------+---------+-----------+--------+---------+---------------+---------------+------------------+----------------+----------+-----------+----------+----------+--------------------+-------------------+\n",
      "only showing top 20 rows\n",
      "\n"
     ]
    },
    {
     "data": {
      "text/plain": [
       "60"
      ]
     },
     "execution_count": 15,
     "metadata": {},
     "output_type": "execute_result"
    }
   ],
   "source": [
    "null_dropped.printSchema()\n",
    "null_dropped.show()\n",
    "null_dropped.count()"
   ]
  },
  {
   "cell_type": "code",
   "execution_count": null,
   "id": "fc9846e4-6010-4007-86bf-65af233dc561",
   "metadata": {},
   "outputs": [],
   "source": []
  }
 ],
 "metadata": {
  "kernelspec": {
   "display_name": "Python 3 (ipykernel)",
   "language": "python",
   "name": "python3"
  },
  "language_info": {
   "codemirror_mode": {
    "name": "ipython",
    "version": 3
   },
   "file_extension": ".py",
   "mimetype": "text/x-python",
   "name": "python",
   "nbconvert_exporter": "python",
   "pygments_lexer": "ipython3",
   "version": "3.10.10"
  }
 },
 "nbformat": 4,
 "nbformat_minor": 5
}
